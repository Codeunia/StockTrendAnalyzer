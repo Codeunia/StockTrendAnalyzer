{
 "cells": [
  {
   "cell_type": "code",
   "execution_count": 1,
   "id": "7bcb976b",
   "metadata": {},
   "outputs": [],
   "source": [
    "import numpy as np\n",
    "import pandas as pd\n"
   ]
  },
  {
   "cell_type": "code",
   "execution_count": 2,
   "id": "1c05e3f9",
   "metadata": {},
   "outputs": [],
   "source": [
    "df=pd.read_csv('stocks.csv')"
   ]
  },
  {
   "cell_type": "code",
   "execution_count": 5,
   "id": "636c3f5c",
   "metadata": {},
   "outputs": [],
   "source": [
    "df['Date']=pd.to_datetime(df['Date'])\n",
    "df.head(10)\n",
    "df=df.sort_values('Date').reset_index(drop=True)"
   ]
  },
  {
   "cell_type": "code",
   "execution_count": null,
   "id": "931b33e0",
   "metadata": {},
   "outputs": [
    {
     "name": "stdout",
     "output_type": "stream",
     "text": [
      "  Ticker       Date        Open        High         Low       Close  \\\n",
      "0   AAPL 2023-02-07  150.639999  155.229996  150.639999  154.649994   \n",
      "1   MSFT 2023-02-07  260.529999  268.769989  260.079987  267.559998   \n",
      "2   GOOG 2023-02-07  103.629997  108.669998  103.547997  108.040001   \n",
      "3   NFLX 2023-02-07  358.510010  364.179993  354.179993  362.950012   \n",
      "4   GOOG 2023-02-08  102.690002  103.580002   98.455002  100.000000   \n",
      "\n",
      "    Adj Close    Volume  \n",
      "0  154.414230  83322600  \n",
      "1  266.891510  50841400  \n",
      "2  108.040001  33738800  \n",
      "3  362.950012   6289400  \n",
      "4  100.000000  73546000   Ticker       0\n",
      "Date         0\n",
      "Open         0\n",
      "High         0\n",
      "Low          0\n",
      "Close        0\n",
      "Adj Close    0\n",
      "Volume       0\n",
      "dtype: int64\n"
     ]
    }
   ],
   "source": [
    "df.drop(columns=['Ticker'])\n",
    "mis_val=df.isnull().sum()\n",
    "print(df.head(),mis_val)\n",
    "# preprocessing done of the data"
   ]
  },
  {
   "cell_type": "code",
   "execution_count": null,
   "id": "fb1a74f7",
   "metadata": {},
   "outputs": [],
   "source": []
  }
 ],
 "metadata": {
  "kernelspec": {
   "display_name": "Python 3",
   "language": "python",
   "name": "python3"
  },
  "language_info": {
   "codemirror_mode": {
    "name": "ipython",
    "version": 3
   },
   "file_extension": ".py",
   "mimetype": "text/x-python",
   "name": "python",
   "nbconvert_exporter": "python",
   "pygments_lexer": "ipython3",
   "version": "3.12.1"
  }
 },
 "nbformat": 4,
 "nbformat_minor": 5
}
